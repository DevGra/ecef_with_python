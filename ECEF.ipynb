{
 "cells": [
  {
   "cell_type": "markdown",
   "metadata": {},
   "source": [
    "<h1>Uma introdução à geolocalização ECEF com Python</h1>"
   ]
  },
  {
   "cell_type": "markdown",
   "metadata": {},
   "source": [
    "Latitude, longitude e altitude são nomes comuns quando se trata de sistemas de geolocalização. Poucas pessoas conhecem outros sistemas como o ECEF. Neste post conheceremos esse sistema pouco comum e aprenderemos como calcular coordenadas nele. "
   ]
  },
  {
   "cell_type": "markdown",
   "metadata": {},
   "source": [
    "Este post é voltado para alunos de ensino superior que possuem pouca ou nenhuma noção de programação com Python. Recomendado para professores e alunos que estão cursando Geometria Analítica. "
   ]
  },
  {
   "cell_type": "markdown",
   "metadata": {},
   "source": [
    "<h3>Sumário</h3>"
   ]
  },
  {
   "cell_type": "markdown",
   "metadata": {},
   "source": [
    "- Sistma Latitude, Longitude e Altitude (LLA)\n",
    "- Sistema Terra-Centro Terra-Fixa (ECEF)\n",
    "- A matemática por transformação de LLA para ECEF\n",
    "- Obtendo coordenadas LLA de um ponto\n",
    "- De LLA para ECEF com Python: a ferramenta\n",
    "- De LLA para ECEF com Python: o código (em 4 linhas)\n",
    "- Aplicação: A área do Palácio da Alvorada!"
   ]
  },
  {
   "cell_type": "markdown",
   "metadata": {},
   "source": [
    "<h3>Sistema LLA</h3>"
   ]
  },
  {
   "cell_type": "markdown",
   "metadata": {},
   "source": [
    "No sistema Latitude-Longitude-Altitude, ou simplesmente LLA, todo ponto $P$ na terra é representado por três coordenadas: latitude $\\lambda$, longitude $\\phi$ e altitude $h$. Cada uma dessas coordenadas são definidas a seguir:"
   ]
  },
  {
   "cell_type": "markdown",
   "metadata": {},
   "source": [
    "- $\\lambda$: é a medida do ângulo entre o plano do equador e o ponto P. Ao norte essa medida atinge no máximo 90º e ao sul no mínimo -90º. Sendo assim $\\lambda \\in [-90,90]$.\n",
    "- $\\phi$: é a medida do ângulo formado pelo plano que contem o Meridiano de Greenwich e o ponto $P$. A leste e a Oeste, essa medida, também por convenção, atinge no máximo 180º.\n",
    "- $h$: é a altura em relação ao nível do mar local $N$, isto é, para o cálculo de $h$, mede-se do nível do mar nas proximidades até o ponto $P$."
   ]
  },
  {
   "cell_type": "markdown",
   "metadata": {},
   "source": [
    "<h3>Sistema ECEF</h3>"
   ]
  },
  {
   "cell_type": "markdown",
   "metadata": {},
   "source": [
    "No sistema ECEF, um ponto $P$ é representado por coordenadas cartesianas $(x,y,z)$. O referencial tridimensional é considerado o seguinte:"
   ]
  },
  {
   "cell_type": "markdown",
   "metadata": {},
   "source": [
    "- origem: Centro do planeta terra\n",
    "- eixo x: Semi-reta da origem até o ponto de interseção do Meridiano de Greenwich com o Equador.\n",
    "- eixo y: No plano contendo a linha do equador move-se o eixo x 90º para o leste.\n",
    "- eixo z: Do polo sul para o polo norte"
   ]
  },
  {
   "cell_type": "markdown",
   "metadata": {},
   "source": [
    "<h3>A matemática da transformação de LLA para ECEF</h3>"
   ]
  },
  {
   "cell_type": "markdown",
   "metadata": {},
   "source": [
    "Dados as coordenadas $\\phi$, $\\lambda$ e $h$ de um ponto $P$, para determinar as coordenadas $(x,y,z)$ ECEF do ponto $P$ utiliza-se a seguinte forma:"
   ]
  },
  {
   "cell_type": "markdown",
   "metadata": {},
   "source": [
    "$$\\left(\\begin{array}{c}x \\\\ y \\\\ z \\end{array}\\right) = \\left(\\begin{array}{c} (N+h)cos\\phi cos\\lambda \\\\ (N+h)cos\\phi cos\\lambda \\\\ (N(1-e^2)+h)sen\\phi \\end{array}\\right)$$"
   ]
  },
  {
   "cell_type": "markdown",
   "metadata": {},
   "source": [
    "<h3>Obtendo coordenadas LLA de um ponto</h3>"
   ]
  },
  {
   "cell_type": "markdown",
   "metadata": {},
   "source": [
    "Existem vários sites que oferecem esse serviço. Para latitude e longitude, o mais comum é o Google Maps. Consideraremos o ponto $P$ sendo o palácio da Alvorada, residência do presidente do Brasil."
   ]
  },
  {
   "cell_type": "markdown",
   "metadata": {},
   "source": [
    "<img src=\"mapPalacioAlvorada.png\">"
   ]
  },
  {
   "cell_type": "markdown",
   "metadata": {},
   "source": [
    "No google Maps, após digitar o endereço procurado na busca, o endereço mostrado pela barra de navegação do seu navegador revela a latitude a a longitude daquele local."
   ]
  },
  {
   "cell_type": "markdown",
   "metadata": {},
   "source": [
    "https://www.google.com.br/maps/place/Palacio+da+Alvorada+-+Brasília,+DF,+70297-400/@-15.7899211,-47.9038544,12z/"
   ]
  },
  {
   "cell_type": "markdown",
   "metadata": {},
   "source": [
    "Neste exemplo, a latitude é -15.7899 e a longitude é -47.9038."
   ]
  },
  {
   "cell_type": "markdown",
   "metadata": {},
   "source": [
    "O site Elevation finder https://www.freemaptools.com/elevation-finder.htm mostra pra você qual a altura dado um endereço."
   ]
  },
  {
   "cell_type": "markdown",
   "metadata": {},
   "source": [
    "<img src=\"elevationPalacioAlvorada.png\">"
   ]
  },
  {
   "cell_type": "markdown",
   "metadata": {},
   "source": [
    "<h3>De LLA para EFEC na prática</h3> "
   ]
  },
  {
   "cell_type": "markdown",
   "metadata": {},
   "source": [
    "O site do departamento de oceanografia da Naval PostGraduate School https://www.nps.edu/ fornece um um conversor simples e intuitivo https://www.oc.nps.edu/oc2902w/coord/llhxyz.htm "
   ]
  },
  {
   "cell_type": "markdown",
   "metadata": {},
   "source": [
    "Utilizaremos as coordenadas do Palácio da Alvorada para esse exemplo."
   ]
  },
  {
   "cell_type": "markdown",
   "metadata": {},
   "source": [
    "<img src=\"LLAtoECEF.png\">"
   ]
  },
  {
   "cell_type": "markdown",
   "metadata": {},
   "source": [
    "<h3>De LLA para ECEF com Python: a ferramenta</h3>"
   ]
  },
  {
   "cell_type": "markdown",
   "metadata": {},
   "source": [
    "Utilizaremos Python para determinar as coordenadas $(x,y,z)$ encontradas acima. A escolha de Python se deve pelo fato de ser uma linguagem de programação recomendada para iniciantes. Para executarmos nossso código em Python utilizaremos o Jupyter Colabore do Google. Assim, não precisaremos instalar nada no computador."
   ]
  },
  {
   "cell_type": "markdown",
   "metadata": {},
   "source": [
    "Entre no site: https://colab.research.google.com/notebooks/welcome.ipynb#recent=true"
   ]
  },
  {
   "cell_type": "markdown",
   "metadata": {},
   "source": [
    "Vá em \"File\" e depois em \"New Python 3 Notebook\". Logue com a conta do gmail."
   ]
  },
  {
   "cell_type": "markdown",
   "metadata": {},
   "source": [
    "Se tudo correu bem aparecerá a seguinte tela:"
   ]
  },
  {
   "cell_type": "markdown",
   "metadata": {},
   "source": [
    "<img src=\"colaboreInicio.png\">"
   ]
  },
  {
   "cell_type": "markdown",
   "metadata": {},
   "source": [
    "O colabore funciona como uma calculadora. Digitamos uma \"conta\" e ele retorna o resultado depois de apertarmos \"play\"."
   ]
  },
  {
   "cell_type": "markdown",
   "metadata": {},
   "source": [
    "<img src=\"conta.png\">"
   ]
  },
  {
   "cell_type": "markdown",
   "metadata": {},
   "source": [
    "O exemplo acima é apenas uma simples e humilde ilustração de como o Jupyter colabore funciona. Na verdade, ele pode calcular desde integrais até a probabilidade da ação de uma grande empresa cair. Utilizaremos o Jupyter colabore para transformar as coordenadas LLA para ECEF. Utilizar um programa que faça isso é importante para automatizar os processos e automatizar um processo é importante para diminuir custos e tempo."
   ]
  },
  {
   "cell_type": "markdown",
   "metadata": {},
   "source": [
    "Para criar uma nova célula e assim poder executar mais comandos, use o botão \"Code\" mostrado na imagem abaixo:"
   ]
  },
  {
   "cell_type": "markdown",
   "metadata": {},
   "source": [
    "<img src=\"code.png\">"
   ]
  },
  {
   "cell_type": "markdown",
   "metadata": {},
   "source": [
    "<h3>Faça isso você mesmo: O código</h3>"
   ]
  },
  {
   "cell_type": "markdown",
   "metadata": {},
   "source": [
    "Muitos programadores criam bibliotecas com \"contas\" mais elaboradas. Para usar alguma dessas \"contas\" temos que seguir os três passos: "
   ]
  },
  {
   "cell_type": "markdown",
   "metadata": {},
   "source": [
    "- instalar a biblioteca caso já não a tenha instalado uma vez\n",
    "- importar a função desejada da biblioteca\n",
    "- chamar a função de acordo com as instruções desta"
   ]
  },
  {
   "cell_type": "markdown",
   "metadata": {},
   "source": [
    "Utilizando \"hashtags\" antes de um texto faz com que o Python não leia aquela linha. Logo utiliza-se \"hashtags\" para fazer comentários no código. Dessa forma, as linhas com \"hashtags\" a seguir podem ser totalmente ignoradas."
   ]
  },
  {
   "cell_type": "code",
   "execution_count": 1,
   "metadata": {},
   "outputs": [
    {
     "name": "stdout",
     "output_type": "stream",
     "text": [
      "Requirement already satisfied: pymap3d in c:\\users\\leand\\anaconda3\\lib\\site-packages (1.7.15)\n",
      "Requirement already satisfied: numpy>=1.10.0 in c:\\users\\leand\\anaconda3\\lib\\site-packages (from pymap3d) (1.14.3)\n",
      "Requirement already satisfied: python-dateutil in c:\\users\\leand\\anaconda3\\lib\\site-packages (from pymap3d) (2.6.1)\n",
      "Requirement already satisfied: six>=1.5 in c:\\users\\leand\\anaconda3\\lib\\site-packages (from python-dateutil->pymap3d) (1.11.0)\n"
     ]
    }
   ],
   "source": [
    "# instalando a biblioteca\n",
    "!pip install pymap3d"
   ]
  },
  {
   "cell_type": "markdown",
   "metadata": {},
   "source": [
    "<img src=\"instalandoPymap.png\">"
   ]
  },
  {
   "cell_type": "code",
   "execution_count": 2,
   "metadata": {},
   "outputs": [],
   "source": [
    "# importando a função desejada da biblioteca\n",
    "from pymap3d import geodetic2ecef"
   ]
  },
  {
   "cell_type": "markdown",
   "metadata": {},
   "source": [
    "<img src=\"importandoFuncao.png\">"
   ]
  },
  {
   "cell_type": "code",
   "execution_count": 3,
   "metadata": {},
   "outputs": [
    {
     "name": "stdout",
     "output_type": "stream",
     "text": [
      "4122527.1043634596 -4550042.799842703 -1724934.4312999998\n"
     ]
    }
   ],
   "source": [
    "# chamando a função de acordo com as instruções desta\n",
    "x, y, z = geodetic2ecef( -15.79263, -47.82212, 1014)\n",
    "print(x, y, z)"
   ]
  },
  {
   "cell_type": "markdown",
   "metadata": {},
   "source": [
    "<img src=\"chamandoFuncao.png\">"
   ]
  },
  {
   "cell_type": "markdown",
   "metadata": {},
   "source": [
    "Observe que nesse caso, as coordenadas ECEF são dadas em metros."
   ]
  },
  {
   "cell_type": "markdown",
   "metadata": {},
   "source": [
    "<h3>A área do Palácio da Alvorada</h3>"
   ]
  },
  {
   "cell_type": "markdown",
   "metadata": {},
   "source": [
    "Como aplicação estimaremos a área, incluindo o espaço verde, do Palácio da Alvorada."
   ]
  },
  {
   "cell_type": "markdown",
   "metadata": {},
   "source": [
    "Primeiro, notamos que a área é aproximadamente um triângulo."
   ]
  },
  {
   "cell_type": "markdown",
   "metadata": {},
   "source": [
    "<img src=\"triangulo.png\">"
   ]
  },
  {
   "cell_type": "markdown",
   "metadata": {},
   "source": [
    "As coordenadas LLA em metros dos pontos A, B e C, obtidas através do site \"freemaptools\", são aproximadamente:"
   ]
  },
  {
   "cell_type": "markdown",
   "metadata": {},
   "source": [
    "A = (-15.78840, -407.82532, -9999.0)\n",
    "\n",
    "B = (-15.79550, -407.82558, -9999.0)\n",
    "\n",
    "C = (-15.79197, -407.81884, -9999.0)"
   ]
  },
  {
   "cell_type": "markdown",
   "metadata": {},
   "source": [
    "Convertendo para ECEF temos:"
   ]
  },
  {
   "cell_type": "code",
   "execution_count": 4,
   "metadata": {},
   "outputs": [
    {
     "name": "stdout",
     "output_type": "stream",
     "text": [
      "A = (4115243.4089937783, -4542513.618083791, -1721487.4690041905)\n"
     ]
    }
   ],
   "source": [
    "x, y, z = geodetic2ecef( -15.78840, -407.82532, -9999.0)\n",
    "print(\"A = ({}, {}, {})\".format(x, y, z))"
   ]
  },
  {
   "cell_type": "code",
   "execution_count": 5,
   "metadata": {},
   "outputs": [
    {
     "name": "stdout",
     "output_type": "stream",
     "text": [
      "B = (4115079.4695950192, -4542374.083886003, -1722242.2844763028)\n"
     ]
    }
   ],
   "source": [
    "x, y, z = geodetic2ecef( -15.79550, -407.82558, -9999.0)\n",
    "print(\"B = ({}, {}, {})\".format(x, y, z))"
   ]
  },
  {
   "cell_type": "code",
   "execution_count": 6,
   "metadata": {},
   "outputs": [
    {
     "name": "stdout",
     "output_type": "stream",
     "text": [
      "C = (4115685.0605882085, -4541968.633198852, -1721867.006226004)\n"
     ]
    }
   ],
   "source": [
    "x, y, z = geodetic2ecef( -15.79197, -407.81884, -9999.0)\n",
    "print(\"C = ({}, {}, {})\".format(x, y, z))"
   ]
  },
  {
   "cell_type": "code",
   "execution_count": 7,
   "metadata": {},
   "outputs": [
    {
     "name": "stdout",
     "output_type": "stream",
     "text": [
      "277369.1244671427 metros quadrados\n"
     ]
    }
   ],
   "source": [
    "import numpy as np\n",
    "\n",
    "# Os pontos A, B e C devem ser declarados como segue\n",
    "A = np.array(\n",
    "    (4115243.4089937783, -4542513.618083791, -1721487.4690041905)\n",
    ")\n",
    "B = np.array(\n",
    "    (4115079.4695950192, -4542374.083886003, -1722242.2844763028)\n",
    ")\n",
    "C = np.array(\n",
    "    (4115685.0605882085, -4541968.633198852, -1721867.006226004)\n",
    ")\n",
    "\n",
    "# fazendo o produto vetorial de AB com AC\n",
    "ABxAC = np.cross(B-A, C-A)\n",
    "\n",
    "# calculando a área do triângulo ABC\n",
    "AREA = np.linalg.norm(ABxAC)/2\n",
    "\n",
    "# Imprimindo o resultado\n",
    "print(AREA,\"metros quadrados\")"
   ]
  },
  {
   "cell_type": "markdown",
   "metadata": {},
   "source": [
    "A área é de aproximadamente 277369 metros quadrados!"
   ]
  },
  {
   "cell_type": "markdown",
   "metadata": {},
   "source": [
    "<h3>Conclusão</h3>"
   ]
  },
  {
   "cell_type": "markdown",
   "metadata": {},
   "source": [
    "Neste post aprendemos:"
   ]
  },
  {
   "cell_type": "markdown",
   "metadata": {},
   "source": [
    "- O que é o sistema LLA\n",
    "- O que é o sistema ECEF\n",
    "- Como obter coordenadas LLA\n",
    "- Como converter LLA para ECEF com Python\n",
    "- Como calcular área utilizando ECEF"
   ]
  },
  {
   "cell_type": "markdown",
   "metadata": {},
   "source": [
    "Até a próxima! \\o"
   ]
  },
  {
   "cell_type": "code",
   "execution_count": null,
   "metadata": {},
   "outputs": [],
   "source": []
  }
 ],
 "metadata": {
  "kernelspec": {
   "display_name": "Python 3",
   "language": "python",
   "name": "python3"
  },
  "language_info": {
   "codemirror_mode": {
    "name": "ipython",
    "version": 3
   },
   "file_extension": ".py",
   "mimetype": "text/x-python",
   "name": "python",
   "nbconvert_exporter": "python",
   "pygments_lexer": "ipython3",
   "version": "3.6.5"
  }
 },
 "nbformat": 4,
 "nbformat_minor": 2
}
